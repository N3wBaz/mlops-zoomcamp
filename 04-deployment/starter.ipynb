{
 "cells": [
  {
   "cell_type": "code",
   "execution_count": 73,
   "id": "2c51efaa",
   "metadata": {},
   "outputs": [
    {
     "name": "stdout",
     "output_type": "stream",
     "text": [
      "scikit-learn @ file:///tmp/build/80754af9/scikit-learn_1642617106979/work\n",
      "scikit-learn-intelex==2021.20220215.212715\n"
     ]
    }
   ],
   "source": [
    "!pip freeze | grep scikit-learn"
   ]
  },
  {
   "cell_type": "code",
   "execution_count": 74,
   "id": "0ef880a0",
   "metadata": {},
   "outputs": [],
   "source": [
    "import pickle\n",
    "import pandas as pd\n",
    "from datetime import datetime"
   ]
  },
  {
   "cell_type": "code",
   "execution_count": 75,
   "id": "7836ccfd",
   "metadata": {},
   "outputs": [],
   "source": [
    "with open('model.bin', 'rb') as f_in:\n",
    "    dv, lr = pickle.load(f_in)"
   ]
  },
  {
   "cell_type": "code",
   "execution_count": 76,
   "id": "41c08294",
   "metadata": {},
   "outputs": [],
   "source": [
    "categorical = ['PUlocationID', 'DOlocationID']\n",
    "\n",
    "def read_data(filename):\n",
    "    df = pd.read_parquet(filename)\n",
    "    \n",
    "    df['duration'] = df.dropOff_datetime - df.pickup_datetime\n",
    "    df['duration'] = df.duration.dt.total_seconds() / 60\n",
    "\n",
    "    df = df[(df.duration >= 1) & (df.duration <= 60)].copy()\n",
    "\n",
    "    df[categorical] = df[categorical].fillna(-1).astype('int').astype('str')\n",
    "    \n",
    "    return df"
   ]
  },
  {
   "cell_type": "code",
   "execution_count": 77,
   "id": "4854399a",
   "metadata": {},
   "outputs": [],
   "source": [
    "# df = read_data('https://nyc-tlc.s3.amazonaws.com/trip+data/fhv_tripdata_2021-02.parquet')\n",
    "df = read_data('data/fhv_tripdata_2021-02.parquet')"
   ]
  },
  {
   "cell_type": "code",
   "execution_count": 78,
   "id": "669fda0a",
   "metadata": {},
   "outputs": [],
   "source": [
    "dicts = df[categorical].to_dict(orient='records')\n",
    "X_val = dv.transform(dicts)\n",
    "y_pred = lr.predict(X_val)"
   ]
  },
  {
   "cell_type": "markdown",
   "id": "f1225e33",
   "metadata": {},
   "source": [
    "**Q1. Mean predicted duration for this dataset**"
   ]
  },
  {
   "cell_type": "code",
   "execution_count": 79,
   "id": "5f6469f4",
   "metadata": {},
   "outputs": [
    {
     "data": {
      "text/plain": [
       "16.191691679979066"
      ]
     },
     "execution_count": 79,
     "metadata": {},
     "output_type": "execute_result"
    }
   ],
   "source": [
    "y_pred.mean()"
   ]
  },
  {
   "cell_type": "markdown",
   "id": "49ff2a88",
   "metadata": {},
   "source": [
    "**Q2. Preparing the output**"
   ]
  },
  {
   "cell_type": "code",
   "execution_count": 85,
   "id": "24179e85",
   "metadata": {},
   "outputs": [],
   "source": [
    "df['ride_id'] = df['pickup_datetime'].apply(lambda x: f\"{pd.to_datetime(x).year:04d}/{pd.to_datetime(x).month:02d}_\") + df.index.astype('str')\n"
   ]
  },
  {
   "cell_type": "code",
   "execution_count": 90,
   "id": "f9c3e3d3",
   "metadata": {},
   "outputs": [
    {
     "data": {
      "text/html": [
       "<div>\n",
       "<style scoped>\n",
       "    .dataframe tbody tr th:only-of-type {\n",
       "        vertical-align: middle;\n",
       "    }\n",
       "\n",
       "    .dataframe tbody tr th {\n",
       "        vertical-align: top;\n",
       "    }\n",
       "\n",
       "    .dataframe thead th {\n",
       "        text-align: right;\n",
       "    }\n",
       "</style>\n",
       "<table border=\"1\" class=\"dataframe\">\n",
       "  <thead>\n",
       "    <tr style=\"text-align: right;\">\n",
       "      <th></th>\n",
       "      <th>ride_id</th>\n",
       "      <th>predictions</th>\n",
       "    </tr>\n",
       "  </thead>\n",
       "  <tbody>\n",
       "    <tr>\n",
       "      <th>1</th>\n",
       "      <td>2021/02_1</td>\n",
       "      <td>14.539865</td>\n",
       "    </tr>\n",
       "    <tr>\n",
       "      <th>2</th>\n",
       "      <td>2021/02_2</td>\n",
       "      <td>13.740422</td>\n",
       "    </tr>\n",
       "    <tr>\n",
       "      <th>3</th>\n",
       "      <td>2021/02_3</td>\n",
       "      <td>15.593339</td>\n",
       "    </tr>\n",
       "    <tr>\n",
       "      <th>4</th>\n",
       "      <td>2021/02_4</td>\n",
       "      <td>15.188118</td>\n",
       "    </tr>\n",
       "    <tr>\n",
       "      <th>5</th>\n",
       "      <td>2021/02_5</td>\n",
       "      <td>13.817206</td>\n",
       "    </tr>\n",
       "    <tr>\n",
       "      <th>...</th>\n",
       "      <td>...</td>\n",
       "      <td>...</td>\n",
       "    </tr>\n",
       "    <tr>\n",
       "      <th>1037687</th>\n",
       "      <td>2021/02_1037687</td>\n",
       "      <td>12.433246</td>\n",
       "    </tr>\n",
       "    <tr>\n",
       "      <th>1037688</th>\n",
       "      <td>2021/02_1037688</td>\n",
       "      <td>12.910885</td>\n",
       "    </tr>\n",
       "    <tr>\n",
       "      <th>1037689</th>\n",
       "      <td>2021/02_1037689</td>\n",
       "      <td>15.834923</td>\n",
       "    </tr>\n",
       "    <tr>\n",
       "      <th>1037690</th>\n",
       "      <td>2021/02_1037690</td>\n",
       "      <td>16.783176</td>\n",
       "    </tr>\n",
       "    <tr>\n",
       "      <th>1037691</th>\n",
       "      <td>2021/02_1037691</td>\n",
       "      <td>19.654626</td>\n",
       "    </tr>\n",
       "  </tbody>\n",
       "</table>\n",
       "<p>990113 rows × 2 columns</p>\n",
       "</div>"
      ],
      "text/plain": [
       "                 ride_id  predictions\n",
       "1              2021/02_1    14.539865\n",
       "2              2021/02_2    13.740422\n",
       "3              2021/02_3    15.593339\n",
       "4              2021/02_4    15.188118\n",
       "5              2021/02_5    13.817206\n",
       "...                  ...          ...\n",
       "1037687  2021/02_1037687    12.433246\n",
       "1037688  2021/02_1037688    12.910885\n",
       "1037689  2021/02_1037689    15.834923\n",
       "1037690  2021/02_1037690    16.783176\n",
       "1037691  2021/02_1037691    19.654626\n",
       "\n",
       "[990113 rows x 2 columns]"
      ]
     },
     "execution_count": 90,
     "metadata": {},
     "output_type": "execute_result"
    }
   ],
   "source": [
    "df_result = pd.DataFrame()\n",
    "df_result['ride_id'] = df['ride_id']\n",
    "df_result['predictions'] = y_pred\n",
    "df_result"
   ]
  },
  {
   "cell_type": "code",
   "execution_count": 91,
   "id": "7dbfc879",
   "metadata": {},
   "outputs": [],
   "source": [
    "output_file = 'data/fhv_tripdata_2021-02_test.parquet'\n",
    "df_result.to_parquet(\n",
    "    output_file,\n",
    "    engine='pyarrow',\n",
    "    compression=None,\n",
    "    index=False\n",
    ")"
   ]
  }
 ],
 "metadata": {
  "interpreter": {
   "hash": "706a91f5e183515eb47a09c7de70d7c9039053842dd0d451d1801384be09e096"
  },
  "kernelspec": {
   "display_name": "Python 3.9.12 64-bit ('anaconda3')",
   "language": "python",
   "name": "python3"
  },
  "language_info": {
   "codemirror_mode": {
    "name": "ipython",
    "version": 3
   },
   "file_extension": ".py",
   "mimetype": "text/x-python",
   "name": "python",
   "nbconvert_exporter": "python",
   "pygments_lexer": "ipython3",
   "version": "3.9.12"
  }
 },
 "nbformat": 4,
 "nbformat_minor": 5
}
