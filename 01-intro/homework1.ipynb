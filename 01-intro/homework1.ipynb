{
  "nbformat": 4,
  "nbformat_minor": 0,
  "metadata": {
    "colab": {
      "name": "homework1.ipynb",
      "provenance": [],
      "collapsed_sections": [],
      "authorship_tag": "ABX9TyMXmmmvvF0j+CuZUQOuu8JD",
      "include_colab_link": true
    },
    "kernelspec": {
      "name": "python3",
      "display_name": "Python 3"
    },
    "language_info": {
      "name": "python"
    }
  },
  "cells": [
    {
      "cell_type": "markdown",
      "metadata": {
        "id": "view-in-github",
        "colab_type": "text"
      },
      "source": [
        "<a href=\"https://colab.research.google.com/github/N3wBaz/mlops-zoomcamp/blob/main/01-intro/homework1.ipynb\" target=\"_parent\"><img src=\"https://colab.research.google.com/assets/colab-badge.svg\" alt=\"Open In Colab\"/></a>"
      ]
    },
    {
      "cell_type": "code",
      "execution_count": 1,
      "metadata": {
        "id": "_QaDhqTJYew-"
      },
      "outputs": [],
      "source": [
        "# Download datasets to google colab \n",
        "# !wget https://nyc-tlc.s3.amazonaws.com/trip+data/fhv_tripdata_2021-01.parquet"
      ]
    },
    {
      "cell_type": "code",
      "source": [
        "# !wget https://nyc-tlc.s3.amazonaws.com/trip+data/fhv_tripdata_2021-02.parquet"
      ],
      "metadata": {
        "id": "UKw0Gr5KYykv"
      },
      "execution_count": 2,
      "outputs": []
    },
    {
      "cell_type": "code",
      "source": [
        "# mount google drive\n",
        "\n",
        "from google.colab import drive\n",
        "drive.mount('/content/gdrive/')"
      ],
      "metadata": {
        "colab": {
          "base_uri": "https://localhost:8080/"
        },
        "id": "xIBx8e3aZNeM",
        "outputId": "f224aefd-6d36-4e75-d798-85fa4063c880"
      },
      "execution_count": 6,
      "outputs": [
        {
          "output_type": "stream",
          "name": "stdout",
          "text": [
            "Mounted at /content/gdrive/\n"
          ]
        }
      ]
    },
    {
      "cell_type": "code",
      "source": [
        "import pandas as pd\n",
        "import seaborn as sns\n",
        "import matplotlib.pyplot as plt\n",
        "\n",
        "from sklearn.feature_extraction import DictVectorizer\n",
        "from sklearn.linear_model import LinearRegression\n",
        "from sklearn.linear_model import Lasso\n",
        "from sklearn.linear_model import Ridge\n",
        "\n",
        "from sklearn.metrics import mean_squared_error"
      ],
      "metadata": {
        "id": "c9K6bB9AZ2M3"
      },
      "execution_count": 15,
      "outputs": []
    },
    {
      "cell_type": "markdown",
      "source": [
        "Read data from google disk. You should write path to your data"
      ],
      "metadata": {
        "id": "9qKq6z7lLDvk"
      }
    },
    {
      "cell_type": "code",
      "source": [
        "df_t = pd.read_parquet(\"/content/gdrive/MyDrive/DataTalksClub/MLOps_course/1_st_homework/fhv_tripdata_2021-01.parquet\")"
      ],
      "metadata": {
        "id": "XZxfGMmlZ4pG"
      },
      "execution_count": 152,
      "outputs": []
    },
    {
      "cell_type": "code",
      "source": [
        "df_v = pd.read_parquet(\"/content/gdrive/MyDrive/DataTalksClub/MLOps_course/1_st_homework/fhv_tripdata_2021-02.parquet\")"
      ],
      "metadata": {
        "id": "AJTZrQ3JaHll"
      },
      "execution_count": 153,
      "outputs": []
    },
    {
      "cell_type": "code",
      "source": [
        "df_t.dtypes"
      ],
      "metadata": {
        "colab": {
          "base_uri": "https://localhost:8080/"
        },
        "id": "HOV6STS2aMzv",
        "outputId": "8ca5396b-15f0-4333-9935-465b1141e23a"
      },
      "execution_count": 154,
      "outputs": [
        {
          "output_type": "execute_result",
          "data": {
            "text/plain": [
              "dispatching_base_num              object\n",
              "pickup_datetime           datetime64[ns]\n",
              "dropOff_datetime          datetime64[ns]\n",
              "PUlocationID                     float64\n",
              "DOlocationID                     float64\n",
              "SR_Flag                           object\n",
              "Affiliated_base_number            object\n",
              "dtype: object"
            ]
          },
          "metadata": {},
          "execution_count": 154
        }
      ]
    },
    {
      "cell_type": "markdown",
      "source": [
        "**Q1. Downloading the data**\n",
        "\n",
        "*   Read the data for January. How many records are there?\n",
        "\n",
        "\n"
      ],
      "metadata": {
        "id": "jnyGBz--JjdI"
      }
    },
    {
      "cell_type": "code",
      "source": [
        "print(f\"The number of records in Januaty is {df_t.shape[0]}\")"
      ],
      "metadata": {
        "colab": {
          "base_uri": "https://localhost:8080/"
        },
        "id": "WtBapQZZJPoE",
        "outputId": "d5359cb1-b0e4-49d0-c5c5-eb160dd40f56"
      },
      "execution_count": 155,
      "outputs": [
        {
          "output_type": "stream",
          "name": "stdout",
          "text": [
            "The number of records in Januaty is 1154112\n"
          ]
        }
      ]
    },
    {
      "cell_type": "markdown",
      "source": [
        "**Q2. Computing duration**\n",
        "\n",
        "*   What's the average trip duration in January?"
      ],
      "metadata": {
        "id": "nf7gPRwBKiKp"
      }
    },
    {
      "cell_type": "code",
      "source": [
        "df_t['duration'] = df_t.dropOff_datetime - df_t.pickup_datetime \n",
        "df_t.duration = df_t.duration.dt.total_seconds() / 60\n",
        "\n",
        "df_v['duration'] = df_v.dropOff_datetime - df_v.pickup_datetime \n",
        "df_v.duration = df_v.duration.dt.total_seconds() / 60\n"
      ],
      "metadata": {
        "id": "LhP8auVnaOMV"
      },
      "execution_count": 156,
      "outputs": []
    },
    {
      "cell_type": "code",
      "source": [
        "print(f\"Average trip duration in January is {df_t['duration'].mean()}\")"
      ],
      "metadata": {
        "colab": {
          "base_uri": "https://localhost:8080/"
        },
        "id": "E7IIC25oc5Vp",
        "outputId": "8de66ae9-e2bc-484d-97f3-faaa66c56a35"
      },
      "execution_count": 157,
      "outputs": [
        {
          "output_type": "stream",
          "name": "stdout",
          "text": [
            "Average trip duration in January is 19.1672240937939\n"
          ]
        }
      ]
    },
    {
      "cell_type": "markdown",
      "source": [
        "Checking out data for outliers. Let's draw a boxplot for our target values\n"
      ],
      "metadata": {
        "id": "XrcXXCcv9xQ6"
      }
    },
    {
      "cell_type": "code",
      "source": [
        "df_t.duration.describe(percentiles=[0.25, 0.50, 0.75, 0.95, 0.96, 0.97, 0.98, 0.99])"
      ],
      "metadata": {
        "colab": {
          "base_uri": "https://localhost:8080/"
        },
        "id": "8bNaf5M53v1B",
        "outputId": "7ee3477b-fd33-4070-a840-5e5c72c4d86a"
      },
      "execution_count": 158,
      "outputs": [
        {
          "output_type": "execute_result",
          "data": {
            "text/plain": [
              "count    1.154112e+06\n",
              "mean     1.916722e+01\n",
              "std      3.986922e+02\n",
              "min      1.666667e-02\n",
              "25%      7.766667e+00\n",
              "50%      1.340000e+01\n",
              "75%      2.228333e+01\n",
              "95%      4.725000e+01\n",
              "96%      5.146667e+01\n",
              "97%      5.775000e+01\n",
              "98%      6.613333e+01\n",
              "99%      9.030000e+01\n",
              "max      4.233710e+05\n",
              "Name: duration, dtype: float64"
            ]
          },
          "metadata": {},
          "execution_count": 158
        }
      ]
    },
    {
      "cell_type": "code",
      "source": [
        "fig = plt.figure(figsize=(15,3))\n",
        "ax = sns.boxplot(x=df_t[\"duration\"])"
      ],
      "metadata": {
        "colab": {
          "base_uri": "https://localhost:8080/",
          "height": 225
        },
        "id": "eWTtv_S_6BYi",
        "outputId": "d722d6c0-f224-4231-9385-c07d7ee61c2d"
      },
      "execution_count": 159,
      "outputs": [
        {
          "output_type": "display_data",
          "data": {
            "text/plain": [
              "<Figure size 1080x216 with 1 Axes>"
            ],
            "image/png": "[encoded data removed]"
          },
          "metadata": {
            "needs_background": "light"
          }
        }
      ]
    },
    {
      "cell_type": "markdown",
      "source": [
        "We can see, that most of the data is within aprox. 1 hour (perc = 97% --> aprox. 58 minutes). We can use data with durations within this range.\n",
        "\n",
        "**Flitering data from some outliers**"
      ],
      "metadata": {
        "id": "O8iX9ejz-0rS"
      }
    },
    {
      "cell_type": "code",
      "source": [
        "df_t = df_t[(df_t.duration <= 58)].copy()\n",
        "df_v = df_v[(df_v.duration <= 58)].copy()"
      ],
      "metadata": {
        "id": "tSdwmIra5ITq"
      },
      "execution_count": 160,
      "outputs": []
    },
    {
      "cell_type": "code",
      "source": [
        "fig = plt.figure(figsize=(15, 3))\n",
        "ax = sns.boxplot(x=df_t[\"duration\"])"
      ],
      "metadata": {
        "id": "jBjXQLckH7X8",
        "colab": {
          "base_uri": "https://localhost:8080/",
          "height": 225
        },
        "outputId": "3e808639-7bdb-4c44-a309-660fc6eaa69d"
      },
      "execution_count": 139,
      "outputs": [
        {
          "output_type": "display_data",
          "data": {
            "text/plain": [
              "<Figure size 1080x216 with 1 Axes>"
            ],
            "image/png": "[encoded data removed]"
          },
          "metadata": {
            "needs_background": "light"
          }
        }
      ]
    },
    {
      "cell_type": "code",
      "source": [
        "# Target values\n",
        "fig = plt.figure(figsize=(11,5))\n",
        "sns.histplot(df_t.duration, bins=120);"
      ],
      "metadata": {
        "colab": {
          "base_uri": "https://localhost:8080/",
          "height": 334
        },
        "id": "ehrPNNiv3Do8",
        "outputId": "9448c458-6cb1-4d99-a81a-c9f69fc46f80"
      },
      "execution_count": 161,
      "outputs": [
        {
          "output_type": "display_data",
          "data": {
            "text/plain": [
              "<Figure size 792x360 with 1 Axes>"
            ],
            "image/png": "[encoded data removed]"
          },
          "metadata": {
            "needs_background": "light"
          }
        }
      ]
    },
    {
      "cell_type": "markdown",
      "source": [
        "**Q3. Missing values**\n",
        "\n",
        "*   What's the fractions of missing values for the pickup location ID?"
      ],
      "metadata": {
        "id": "2yADTPCHbh6l"
      }
    },
    {
      "cell_type": "code",
      "source": [
        "print(f\"Fractions of missing values for the pickup location ID is {df_t['PUlocationID'].isnull().sum() / df_t.shape[0] * 100}%\")"
      ],
      "metadata": {
        "colab": {
          "base_uri": "https://localhost:8080/"
        },
        "id": "HL8LkJ6uacv4",
        "outputId": "2be24609-6160-4b39-de7b-0a0dcc2fec04"
      },
      "execution_count": 162,
      "outputs": [
        {
          "output_type": "stream",
          "name": "stdout",
          "text": [
            "Fractions of missing values for the pickup location ID is 83.29216020113083%\n"
          ]
        }
      ]
    },
    {
      "cell_type": "code",
      "source": [
        "df_t.fillna(-1, inplace=True)\n",
        "df_v.fillna(-1, inplace=True)"
      ],
      "metadata": {
        "id": "i5WVwLuQb5d3"
      },
      "execution_count": 163,
      "outputs": []
    },
    {
      "cell_type": "code",
      "source": [
        "df_t.isnull().sum()"
      ],
      "metadata": {
        "colab": {
          "base_uri": "https://localhost:8080/"
        },
        "id": "vPQsylq4b8kv",
        "outputId": "49db5198-98aa-414d-c405-74df4f4e2632"
      },
      "execution_count": 164,
      "outputs": [
        {
          "output_type": "execute_result",
          "data": {
            "text/plain": [
              "dispatching_base_num      0\n",
              "pickup_datetime           0\n",
              "dropOff_datetime          0\n",
              "PUlocationID              0\n",
              "DOlocationID              0\n",
              "SR_Flag                   0\n",
              "Affiliated_base_number    0\n",
              "duration                  0\n",
              "dtype: int64"
            ]
          },
          "metadata": {},
          "execution_count": 164
        }
      ]
    },
    {
      "cell_type": "code",
      "source": [
        "categorical = ['PUlocationID', 'DOlocationID']\n",
        "df_t[categorical] = df_t[categorical].astype(str)\n",
        "train_dicts = df_t[categorical].to_dict(orient='records')\n",
        "\n",
        "df_v[categorical] = df_v[categorical].astype(str)\n",
        "val_dicts = df_v[categorical].to_dict(orient='records')\n",
        "\n"
      ],
      "metadata": {
        "id": "87n_0k4JeK2B"
      },
      "execution_count": 165,
      "outputs": []
    },
    {
      "cell_type": "code",
      "source": [
        "dv = DictVectorizer()\n",
        "X_train = dv.fit_transform(train_dicts)\n",
        "X_val = dv.transform(val_dicts)"
      ],
      "metadata": {
        "id": "hU7DTRwhCVHs"
      },
      "execution_count": 167,
      "outputs": []
    },
    {
      "cell_type": "markdown",
      "source": [
        "**Q4. One-hot encoding**\n",
        "\n",
        "*    Let's apply one-hot encoding to the pickup and dropoff location IDs.\n",
        "     \n",
        "     What's the dimensionality of this matrix? (The number of columns).\n"
      ],
      "metadata": {
        "id": "yss2P8KgTRJV"
      }
    },
    {
      "cell_type": "code",
      "source": [
        "print(f\"The dimensionality of this matrix is {X_train.shape[1]}\")"
      ],
      "metadata": {
        "colab": {
          "base_uri": "https://localhost:8080/"
        },
        "id": "KvP4UvdzRh2a",
        "outputId": "7d023dac-f829-4076-bdfc-3c2f40cb8690"
      },
      "execution_count": 168,
      "outputs": [
        {
          "output_type": "stream",
          "name": "stdout",
          "text": [
            "The dimensionality of this matrix is 525\n"
          ]
        }
      ]
    },
    {
      "cell_type": "code",
      "source": [
        "target = 'duration'\n",
        "y_train = df_t[target].values\n",
        "y_val = df_v[target].values"
      ],
      "metadata": {
        "id": "uI5BLmrWePC4"
      },
      "execution_count": 170,
      "outputs": []
    },
    {
      "cell_type": "markdown",
      "source": [
        "**Q5. Training a model**\n",
        "\n",
        "*   What's the RMSE on train?"
      ],
      "metadata": {
        "id": "S98wXMWjTZIp"
      }
    },
    {
      "cell_type": "code",
      "source": [
        "lr = LinearRegression()\n",
        "lr.fit(X_train, y_train)\n",
        "\n",
        "y_pred = lr.predict(X_train)\n",
        "\n",
        "print(f\"RMSE on train is {mean_squared_error(y_train, y_pred, squared=False)}\")"
      ],
      "metadata": {
        "id": "5r9fh8qFeREY",
        "outputId": "ce279305-a16a-4c5f-bd79-c655a981703c",
        "colab": {
          "base_uri": "https://localhost:8080/"
        }
      },
      "execution_count": 171,
      "outputs": [
        {
          "output_type": "stream",
          "name": "stdout",
          "text": [
            "RMSE on train is 10.340573366416262\n"
          ]
        }
      ]
    },
    {
      "cell_type": "markdown",
      "source": [
        "**Q6. Evaluating the model**\n",
        "\n",
        "*   What's the RMSE on validation?"
      ],
      "metadata": {
        "id": "_HKJ6Cu4TjEl"
      }
    },
    {
      "cell_type": "code",
      "source": [
        "y_pred_v = lr.predict(X_val)\n",
        "print(f\"RMSE on validation is {mean_squared_error(y_val, y_pred_v, squared=False)}\")"
      ],
      "metadata": {
        "id": "A1VkVcItPkBm",
        "colab": {
          "base_uri": "https://localhost:8080/"
        },
        "outputId": "f75630bc-2ec1-4a35-d5e0-556527605a1b"
      },
      "execution_count": 172,
      "outputs": [
        {
          "output_type": "stream",
          "name": "stdout",
          "text": [
            "RMSE on train is 10.826866242870722\n"
          ]
        }
      ]
    }
  ]
}